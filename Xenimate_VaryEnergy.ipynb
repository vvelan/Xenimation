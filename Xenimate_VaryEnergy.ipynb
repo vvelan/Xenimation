{
 "cells": [
  {
   "cell_type": "markdown",
   "metadata": {},
   "source": [
    "# ReadMe"
   ]
  },
  {
   "cell_type": "raw",
   "metadata": {},
   "source": [
    "This notebook allows you to create a Xenimation gif, showing how the flow of energy in a xenon detector varies as you change the recoil energy. This gif will move between flow diagrams for a fixed drift electric field and a fixed particle type, but varying energy.\n",
    "\n",
    "Change the variables in the config block below to set the particle type, the minimum and maximum recoil energy, the number of energies sampled and whether to sample them uniformly in log-space or linear space, the drift field, the output directory, the gif filename, the time duration between each image, and a decision on whether to save the image files."
   ]
  },
  {
   "cell_type": "markdown",
   "metadata": {},
   "source": [
    "# Config"
   ]
  },
  {
   "cell_type": "code",
   "execution_count": 1,
   "metadata": {},
   "outputs": [],
   "source": [
    "import os\n",
    "import numpy as np\n",
    "import Xenimation as xen"
   ]
  },
  {
   "cell_type": "code",
   "execution_count": 2,
   "metadata": {},
   "outputs": [],
   "source": [
    "### User can change these variables ###\n",
    "\n",
    "pid = 'ER' # Particle type: NR, gamma, or beta (or ER, which is equivalent to beta)\n",
    "E_recoil_min_keV = 1. # Minimum energy deposited\n",
    "E_recoil_max_keV = 50. # Maximum energy deposited\n",
    "n_energies = 30 # Number of energies to simulate\n",
    "log_scale = True # Choose energies equally spaced in logarithmic space\n",
    "drift_field_Vcm = 200. # Drift field at the recoil site\n",
    "output_dir = 'Plots_VaryEnergy/' # Location to save the gif, and optionally the raw images\n",
    "gif_filename = '%s_%.0f-%.0fkeV_%.0fVcm.gif' % (pid, E_recoil_min_keV, E_recoil_max_keV, drift_field_Vcm) # Name of the output gif\n",
    "duration_ms = 250 # Duration of each image frame, in milliseconds\n",
    "savefigs = False # Save the raw image files that are used to produce the gif\n",
    "image_filename_template = '%s_%02.0fkeV_%.0fVcm.png' # Filename template for each flow diagram (if saved)\n",
    "verbose = 0 # If this is nonzero, the notebook will print a progress statement every `verbose` iterations"
   ]
  },
  {
   "cell_type": "markdown",
   "metadata": {},
   "source": [
    "# Execution"
   ]
  },
  {
   "cell_type": "code",
   "execution_count": 3,
   "metadata": {
    "scrolled": false
   },
   "outputs": [
    {
     "name": "stderr",
     "output_type": "stream",
     "text": [
      "/global/cfs/cdirs/lux/projecta/lux/users/vvelan/Xenimation/Xenimation.py:61: UserWarning: This figure includes Axes that are not compatible with tight_layout, so results might be incorrect.\n",
      "  fig.tight_layout()\n"
     ]
    }
   ],
   "source": [
    "if not os.path.exists(output_dir):\n",
    "    os.makedirs(output_dir)\n",
    "\n",
    "if not log_scale:\n",
    "    E_recoil_keV_arr = np.linspace(E_recoil_min_keV, E_recoil_max_keV, n_energies)\n",
    "else:\n",
    "    E_recoil_keV_arr = np.exp(np.linspace(np.log(E_recoil_min_keV), np.log(E_recoil_max_keV), n_energies))\n",
    "\n",
    "if (savefigs):\n",
    "    \n",
    "    im_0 = xen.GetFlowImage(pid, E_recoil_min_keV, drift_field_Vcm, savefigs, output_dir,\n",
    "        image_filename_template % (pid, E_recoil_min_keV, drift_field_Vcm))\n",
    "    im_n = []\n",
    "    \n",
    "    for i in range(1, len(E_recoil_keV_arr)):\n",
    "        im = xen.GetFlowImage(pid, E_recoil_keV_arr[i], drift_field_Vcm, savefigs, output_dir,\n",
    "            image_filename_template % (pid, E_recoil_keV_arr[i], drift_field_Vcm))\n",
    "        im_n.append(im)\n",
    "        if (verbose > 0 and i % verbose == 0):\n",
    "            print('Finished image %d of %d' % (i, n_energies))\n",
    "        \n",
    "    for i in range(len(im_n) - 2, -1, -1):\n",
    "        im_n.append(im_n[i])\n",
    "    \n",
    "    im_0.save(output_dir + gif_filename, save_all=True, append_images=im_n, duration=duration_ms, loop=0, optimize=True)\n",
    "    \n",
    "else:\n",
    "\n",
    "    im_0 = xen.GetFlowImage(pid, E_recoil_min_keV, drift_field_Vcm, savefigs)\n",
    "    im_n = []\n",
    "    \n",
    "    for i in range(1, len(E_recoil_keV_arr)):\n",
    "        im = xen.GetFlowImage(pid, E_recoil_keV_arr[i], drift_field_Vcm, savefigs)\n",
    "        im_n.append(im)\n",
    "        if (verbose > 0 and i % verbose == 0):\n",
    "            print('Finished image %d of %d' % (i, n_energies))\n",
    "\n",
    "    for i in range(len(im_n) - 2, -1, -1):\n",
    "        im_n.append(im_n[i])\n",
    "\n",
    "    im_0.save(output_dir + gif_filename, save_all=True, append_images=im_n, duration=duration_ms, loop=0, optimize=True)"
   ]
  },
  {
   "cell_type": "code",
   "execution_count": null,
   "metadata": {},
   "outputs": [],
   "source": []
  }
 ],
 "metadata": {
  "kernelspec": {
   "display_name": "Python 3",
   "language": "python",
   "name": "python3"
  },
  "language_info": {
   "codemirror_mode": {
    "name": "ipython",
    "version": 3
   },
   "file_extension": ".py",
   "mimetype": "text/x-python",
   "name": "python",
   "nbconvert_exporter": "python",
   "pygments_lexer": "ipython3",
   "version": "3.7.4"
  }
 },
 "nbformat": 4,
 "nbformat_minor": 2
}
