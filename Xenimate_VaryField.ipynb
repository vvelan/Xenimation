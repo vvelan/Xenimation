{
 "cells": [
  {
   "cell_type": "markdown",
   "metadata": {},
   "source": [
    "# ReadMe"
   ]
  },
  {
   "cell_type": "raw",
   "metadata": {},
   "source": [
    "This notebook allows you to create a Xenimation gif, showing how the flow of energy in a xenon detector varies as you change the drift field. This gif will move between flow diagrams for a fixed recoil energy and a fixed particle type, but varying field.\n",
    "\n",
    "Change the variables in the config block below to set the particle type, the recoil energy, the minimum and maximum drift field, the number of drift fields sampled and whether to sample them uniformly in log-space or linear space, the output directory, the gif filename, the time duration between each image, and a decision on whether to save the image files."
   ]
  },
  {
   "cell_type": "markdown",
   "metadata": {},
   "source": [
    "# Config"
   ]
  },
  {
   "cell_type": "code",
   "execution_count": 1,
   "metadata": {},
   "outputs": [],
   "source": [
    "import os\n",
    "import numpy as np\n",
    "import Xenimation as xen"
   ]
  },
  {
   "cell_type": "code",
   "execution_count": 2,
   "metadata": {},
   "outputs": [],
   "source": [
    "### User can change these variables ###\n",
    "\n",
    "pid = 'NR' # Particle type, NR, gamma, or beta (or ER, which is equivalent to beta)\n",
    "E_recoil_keV = 10. # Energy deposited\n",
    "drift_field_min_Vcm = 50. # Minimum drift field at the recoil site\n",
    "drift_field_max_Vcm = 700. # Maximum drift field at the recoil site\n",
    "n_fields = 40 # Number of fields to simulate\n",
    "log_scale = True # Choose fields equally spaced in logarithmic space\n",
    "output_dir = 'Plots_VaryField/' # Location to save the gif, and optionally the raw images\n",
    "gif_filename = '%s_%.0fkeV_%.0f-%.0fVcm.gif' % (pid, E_recoil_keV, drift_field_min_Vcm, drift_field_max_Vcm) # Name of the output gif\n",
    "duration_ms = 100 # Duration of each image frame, in milliseconds\n",
    "savefigs = False # Save the raw image files that are used to produce the gif\n",
    "image_filename_template = '%s_%02.0fkeV_%.0fVcm.png' # Filename template for each flow diagram (if saved)\n",
    "verbose = 0 # If this is nonzero, the notebook will print a progress statement every `verbose` iterations"
   ]
  },
  {
   "cell_type": "markdown",
   "metadata": {},
   "source": [
    "# Execution"
   ]
  },
  {
   "cell_type": "code",
   "execution_count": 3,
   "metadata": {
    "scrolled": false
   },
   "outputs": [
    {
     "name": "stderr",
     "output_type": "stream",
     "text": [
      "/global/cfs/cdirs/lux/projecta/lux/users/vvelan/Xenimation/Xenimation.py:61: UserWarning: This figure includes Axes that are not compatible with tight_layout, so results might be incorrect.\n",
      "  fig.tight_layout()\n"
     ]
    }
   ],
   "source": [
    "if not os.path.exists(output_dir):\n",
    "    os.makedirs(output_dir)\n",
    "\n",
    "if not log_scale:\n",
    "    drift_field_Vcm_arr = np.linspace(drift_field_min_Vcm, drift_field_max_Vcm, n_fields)\n",
    "else:\n",
    "    drift_field_Vcm_arr = np.exp(np.linspace(np.log(drift_field_min_Vcm), np.log(drift_field_max_Vcm), n_fields))\n",
    "\n",
    "if (savefigs):\n",
    "    \n",
    "    im_0 = xen.GetFlowImage(pid, E_recoil_keV, drift_field_min_Vcm, savefigs, output_dir,\n",
    "        image_filename_template % (pid, E_recoil_keV, drift_field_min_Vcm))\n",
    "    im_n = []\n",
    "    \n",
    "    for i in range(1, len(drift_field_Vcm_arr)):\n",
    "        im = xen.GetFlowImage(pid, E_recoil_keV, drift_field_Vcm_arr[i], savefigs, output_dir,\n",
    "            image_filename_template % (pid, E_recoil_keV, drift_field_Vcm_arr[i]))\n",
    "        im_n.append(im)\n",
    "        if (verbose > 0 and i % verbose == 0):\n",
    "            print('Finished image %d of %d' % (i, n_fields))\n",
    "        \n",
    "    for i in range(len(im_n) - 2, -1, -1):\n",
    "        im_n.append(im_n[i])\n",
    "    \n",
    "    im_0.save(output_dir + gif_filename, save_all=True, append_images=im_n, duration=duration_ms, loop=0, optimize=True)\n",
    "    \n",
    "else:\n",
    "\n",
    "    im_0 = xen.GetFlowImage(pid, E_recoil_keV, drift_field_min_Vcm, savefigs)\n",
    "    im_n = []\n",
    "    \n",
    "    for i in range(1, len(drift_field_Vcm_arr)):\n",
    "        im = xen.GetFlowImage(pid, E_recoil_keV, drift_field_Vcm_arr[i], savefigs)\n",
    "        im_n.append(im)\n",
    "        if (verbose > 0 and i % verbose == 0):\n",
    "            print('Finished image %d of %d' % (i, n_fields))\n",
    "\n",
    "    for i in range(len(im_n) - 2, -1, -1):\n",
    "        im_n.append(im_n[i])\n",
    "\n",
    "    im_0.save(output_dir + gif_filename, save_all=True, append_images=im_n, duration=duration_ms, loop=0, optimize=True)"
   ]
  },
  {
   "cell_type": "code",
   "execution_count": null,
   "metadata": {},
   "outputs": [],
   "source": []
  }
 ],
 "metadata": {
  "kernelspec": {
   "display_name": "Python 3",
   "language": "python",
   "name": "python3"
  },
  "language_info": {
   "codemirror_mode": {
    "name": "ipython",
    "version": 3
   },
   "file_extension": ".py",
   "mimetype": "text/x-python",
   "name": "python",
   "nbconvert_exporter": "python",
   "pygments_lexer": "ipython3",
   "version": "3.7.4"
  }
 },
 "nbformat": 4,
 "nbformat_minor": 2
}
