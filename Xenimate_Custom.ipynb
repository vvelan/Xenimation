{
 "cells": [
  {
   "cell_type": "markdown",
   "metadata": {},
   "source": [
    "# ReadMe"
   ]
  },
  {
   "cell_type": "raw",
   "metadata": {},
   "source": [
    "This notebook allows you to create a Xenimation gif, showing how the flow of energy in a xenon detector varies as you change any desired parameters. You need to create a file called Commands.txt where you give commands for what type of images you want. There is a template in CommandsTemplate.txt. Each command should be in one of the formats below.\n",
    "\n",
    "For a single image:\n",
    "mode 0 -pid PID -energy energy[keV] -field field[V/cm] -time time[ms]\n",
    "\n",
    "To vary energy:\n",
    "mode 1 -pid PID -energy_range energy_min[keV] energy_max[keV] n_energies -log [True/False] -field field[V/cm] -time time[ms]\n",
    "\n",
    "To vary field:\n",
    "mode 2 -pid PID -energy[keV] -field_range field_min[V/cm] field_max[V/cm] n_fields -log [True/False] -time time[ms]\n",
    "\n",
    "PID can be ER, NR, or gamma. If -log is True, the range will be sampled uniformly in log space. The time parameter is the time per frame, in milliseconds.\n",
    "\n",
    "The last line of the file should be\n",
    "Reverse = [True/False]\n",
    "which notes that the order of images should be reversed to create a smoothly looping gif. For example, if there are 3 images, and Reverse = True, then 5 images will be saved in the gif: 1, 2, 3, 2, 1.\n",
    "\n",
    "Any lines starting with # will not be considered."
   ]
  },
  {
   "cell_type": "markdown",
   "metadata": {},
   "source": [
    "# Config"
   ]
  },
  {
   "cell_type": "code",
   "execution_count": 1,
   "metadata": {},
   "outputs": [],
   "source": [
    "import os\n",
    "import numpy as np\n",
    "import Xenimation as xen"
   ]
  },
  {
   "cell_type": "code",
   "execution_count": 2,
   "metadata": {},
   "outputs": [],
   "source": [
    "### User can change these variables ###\n",
    "\n",
    "output_dir = 'Plots_Custom/' # Location to save the gif, and optionally the raw images\n",
    "gif_filename = 'CustomTemplate.gif' # Name of the output gif\n",
    "commands_filename = 'CommandsTemplate.txt' # Name of the text file with commands\n",
    "savefigs = True # Save the raw image files that are used to produce the gif\n",
    "image_filename_template = '%s_%02.0fkeV_%.0fVcm.png' # Filename template for each flow diagram (if saved)\n",
    "verbose = 1 # If this is nonzero, the notebook will print a progress statement every `verbose` iterations"
   ]
  },
  {
   "cell_type": "markdown",
   "metadata": {},
   "source": [
    "# Execution"
   ]
  },
  {
   "cell_type": "code",
   "execution_count": 3,
   "metadata": {},
   "outputs": [
    {
     "name": "stderr",
     "output_type": "stream",
     "text": [
      "/home/vetri/GithubRepos/Xenimation/Xenimation.py:46: UserWarning: This figure includes Axes that are not compatible with tight_layout, so results might be incorrect.\n",
      "  fig.tight_layout()\n"
     ]
    },
    {
     "name": "stdout",
     "output_type": "stream",
     "text": [
      "Finished image 1\n",
      "Finished image 2\n",
      "Finished image 3\n",
      "Finished image 4\n",
      "Finished image 5\n",
      "Finished image 6\n",
      "Finished image 7\n",
      "Finished image 8\n",
      "Finished image 9\n",
      "Finished image 10\n",
      "Finished image 11\n",
      "Finished image 12\n",
      "Finished image 13\n",
      "Finished image 14\n",
      "Finished image 15\n",
      "Finished image 16\n",
      "Finished image 17\n",
      "Finished image 18\n",
      "Finished image 19\n",
      "Finished image 20\n",
      "Finished image 21\n"
     ]
    }
   ],
   "source": [
    "commands = open(commands_filename, 'r').readlines()\n",
    "im_n = []\n",
    "reverse = False\n",
    "duration_ms = 1000\n",
    "\n",
    "for command in commands:\n",
    "    if command[0] == '#':\n",
    "        continue\n",
    "    \n",
    "    command_words = command.split(' ')\n",
    "    \n",
    "    if 'mode 0' in command:\n",
    "        pid = command_words[command_words.index('-pid') + 1]\n",
    "        E_recoil_keV = float(command_words[command_words.index('-energy') + 1])\n",
    "        drift_field_Vcm = float(command_words[command_words.index('-field') + 1])\n",
    "        im = xen.GetFlowImage(pid, E_recoil_keV, drift_field_Vcm, savefigs, output_dir,\n",
    "            image_filename_template % (pid, E_recoil_keV, drift_field_Vcm))\n",
    "        im_n.append(im)\n",
    "        if (verbose > 0 and len(im_n) % verbose == 0):\n",
    "            print('Finished image %d' % len(im_n))\n",
    "\n",
    "    elif 'mode 1' in command:\n",
    "        pid = command_words[command_words.index('-pid') + 1]\n",
    "        E_recoil_keV_min = float(command_words[command_words.index('-energy_range') + 1])\n",
    "        E_recoil_keV_max = float(command_words[command_words.index('-energy_range') + 2])\n",
    "        E_recoil_keV_n = int(command_words[command_words.index('-energy_range') + 3])\n",
    "        drift_field_Vcm = float(command_words[command_words.index('-field') + 1])\n",
    "\n",
    "        if '-log True' in command:\n",
    "            E_recoil_keV_arr = 10**np.linspace(np.log10(E_recoil_keV_min), np.log10(E_recoil_keV_max), E_recoil_keV_n)\n",
    "        else:\n",
    "            E_recoil_keV_arr = np.linspace(E_recoil_keV_min, E_recoil_keV_max, E_recoil_keV_n)\n",
    "\n",
    "        for i in range(len(E_recoil_keV_arr)):\n",
    "            im = xen.GetFlowImage(pid, E_recoil_keV_arr[i], drift_field_Vcm, savefigs, output_dir,\n",
    "                image_filename_template % (pid, E_recoil_keV_arr[i], drift_field_Vcm))\n",
    "            im_n.append(im)\n",
    "            if (verbose > 0 and len(im_n) % verbose == 0):\n",
    "                print('Finished image %d' % len(im_n))\n",
    "\n",
    "    elif 'mode 2' in command:\n",
    "        pid = command_words[command_words.index('-pid') + 1]\n",
    "        E_recoil_keV = float(command_words[command_words.index('-energy') + 1])\n",
    "        drift_field_Vcm_min = float(command_words[command_words.index('-field_range') + 1])\n",
    "        drift_field_Vcm_max = float(command_words[command_words.index('-field_range') + 2])\n",
    "        drift_field_Vcm_n = int(command_words[command_words.index('-field_range') + 3])\n",
    "\n",
    "        if '-log True' in command:\n",
    "            drift_field_Vcm_arr = 10**np.linspace(np.log10(drift_field_Vcm_min), np.log10(drift_field_Vcm_max), drift_field_Vcm_n)\n",
    "        else:\n",
    "            drift_field_Vcm_arr = np.linspace(drift_field_Vcm_min, drift_field_Vcm_max, drift_field_Vcm_n)\n",
    "\n",
    "        for i in range(len(drift_field_Vcm_arr)):\n",
    "            im = xen.GetFlowImage(pid, E_recoil_keV, drift_field_Vcm_arr[i], savefigs, output_dir,\n",
    "                image_filename_template % (pid, E_recoil_keV, drift_field_Vcm_arr[i]))\n",
    "            im_n.append(im)\n",
    "            if (verbose > 0 and len(im_n) % verbose == 0):\n",
    "                print('Finished image %d' % len(im_n))\n",
    "\n",
    "    elif 'Reverse' in command:\n",
    "        if 'True' in command:\n",
    "            reverse = True\n",
    "        else:\n",
    "            reverse = False\n",
    "\n",
    "    elif 'Duration' in command:\n",
    "        duration_ms = float(command_words[2])\n",
    "\n",
    "if reverse:\n",
    "    for i in range(len(im_n) - 2, -1, -1):\n",
    "        im_n.append(im_n[i])\n",
    "\n",
    "im_n[0].save(output_dir + gif_filename, save_all=True, append_images=im_n[1:], duration=duration_ms, loop=0, optimize=True)"
   ]
  },
  {
   "cell_type": "code",
   "execution_count": null,
   "metadata": {},
   "outputs": [],
   "source": []
  }
 ],
 "metadata": {
  "kernelspec": {
   "display_name": "Python 3",
   "language": "python",
   "name": "python3"
  },
  "language_info": {
   "codemirror_mode": {
    "name": "ipython",
    "version": 3
   },
   "file_extension": ".py",
   "mimetype": "text/x-python",
   "name": "python",
   "nbconvert_exporter": "python",
   "pygments_lexer": "ipython3",
   "version": "3.6.9"
  }
 },
 "nbformat": 4,
 "nbformat_minor": 2
}
