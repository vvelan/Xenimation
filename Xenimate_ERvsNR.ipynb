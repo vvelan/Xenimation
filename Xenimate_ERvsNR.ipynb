{
 "cells": [
  {
   "cell_type": "markdown",
   "metadata": {},
   "source": [
    "# ReadMe"
   ]
  },
  {
   "cell_type": "raw",
   "metadata": {},
   "source": [
    "This notebook allows you to create a Xenimation gif, showing how the flow of energy in a xenon detector varies between electronic and nuclear recoils. This gif will oscillate between ER and NR flow diagrams for a fixed recoil energy and a fixed drift electric field."
   ]
  },
  {
   "cell_type": "markdown",
   "metadata": {},
   "source": [
    "# Config"
   ]
  },
  {
   "cell_type": "code",
   "execution_count": 1,
   "metadata": {},
   "outputs": [],
   "source": [
    "import os\n",
    "import Xenimation as xen"
   ]
  },
  {
   "cell_type": "code",
   "execution_count": 2,
   "metadata": {},
   "outputs": [],
   "source": [
    "### User can change these variables ###\n",
    "\n",
    "E_recoil_keV = 10. # Total energy deposited for both ER and NR\n",
    "drift_field_Vcm = 200. # Drift field at the recoil site\n",
    "output_dir = 'Plots_ERvsNR/' # Location to save the gif, and optionally the raw images\n",
    "gif_filename = 'ERvsNR_%.0fkeV_%.0fVcm.gif' % (E_recoil_keV, drift_field_Vcm) # Name of the output gif\n",
    "duration_ms = 3000 # Duration of each image frame, in milliseconds\n",
    "savefigs = True # Save the raw image files that are used to produce the gif\n",
    "ER_filename = 'ER_%.0fkeV_%.0fVcm.png' % (E_recoil_keV, drift_field_Vcm) # Filename of the ER flow diagram (if saved)\n",
    "NR_filename = 'NR_%.0fkeV_%.0fVcm.png' % (E_recoil_keV, drift_field_Vcm) # Filename of the NR flow diagram (if saved)"
   ]
  },
  {
   "cell_type": "markdown",
   "metadata": {},
   "source": [
    "# Execution"
   ]
  },
  {
   "cell_type": "code",
   "execution_count": 3,
   "metadata": {
    "scrolled": false
   },
   "outputs": [
    {
     "name": "stderr",
     "output_type": "stream",
     "text": [
      "/global/cfs/cdirs/lux/projecta/lux/users/vvelan/Xenimation/Xenimation.py:46: UserWarning: This figure includes Axes that are not compatible with tight_layout, so results might be incorrect.\n",
      "  fig.tight_layout()\n"
     ]
    }
   ],
   "source": [
    "if not os.path.exists(output_dir):\n",
    "    os.makedirs(output_dir)\n",
    "\n",
    "if (savefigs):\n",
    "    im_ER = xen.GetFlowImage('ER', E_recoil_keV, drift_field_Vcm, savefigs, output_dir, ER_filename)\n",
    "    im_NR = xen.GetFlowImage('NR', E_recoil_keV, drift_field_Vcm, savefigs, output_dir, NR_filename)\n",
    "    im_ER.save(output_dir + gif_filename, save_all=True, append_images=[im_NR], duration=duration_ms, loop=0)\n",
    "else:\n",
    "    im_ER = xen.GetFlowImage('ER', E_recoil_keV, drift_field_Vcm, savefigs)\n",
    "    im_NR = xen.GetFlowImage('NR', E_recoil_keV, drift_field_Vcm, savefigs)\n",
    "    im_ER.save(output_dir + gif_filename, save_all=True, append_images=[im_NR], duration=duration_ms, loop=0)"
   ]
  },
  {
   "cell_type": "code",
   "execution_count": null,
   "metadata": {},
   "outputs": [],
   "source": []
  }
 ],
 "metadata": {
  "kernelspec": {
   "display_name": "Python 3",
   "language": "python",
   "name": "python3"
  },
  "language_info": {
   "codemirror_mode": {
    "name": "ipython",
    "version": 3
   },
   "file_extension": ".py",
   "mimetype": "text/x-python",
   "name": "python",
   "nbconvert_exporter": "python",
   "pygments_lexer": "ipython3",
   "version": "3.7.4"
  }
 },
 "nbformat": 4,
 "nbformat_minor": 2
}
